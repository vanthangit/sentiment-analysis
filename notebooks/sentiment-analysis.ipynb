{
 "cells": [
  {
   "cell_type": "markdown",
   "id": "bd1236fc",
   "metadata": {},
   "source": [
    "# 🧠 Sentiment Analysis on Amazon Reviews (PySpark + PyTorch)\n",
    "\n",
    "Mục tiêu: \n",
    "- Làm sạch dữ liệu đánh giá sản phẩm bằng PySpark.\n",
    "- Chuyển đổi dữ liệu đã xử lý sang tensor để huấn luyện mô hình PyTorch.\n",
    "\n",
    "Công cụ:\n",
    "- PySpark (xử lý dữ liệu lớn)\n",
    "- PyTorch (huấn luyện mô hình Deep Learning)\n"
   ]
  },
  {
   "cell_type": "markdown",
   "id": "a7aaf1c1",
   "metadata": {},
   "source": [
    "## Khám phá dữ liệu (Exploratory Data Analysis - EDA)\n",
    "\n",
    "Trong phần này, chúng ta sẽ:\n",
    "- Đọc dữ liệu gốc từ file `.csv`\n",
    "- Kiểm tra schema, số lượng dòng/cột\n",
    "- Kiểm tra dữ liệu thiếu (null/missing)\n",
    "- Chuẩn hoá cột `Rating`\n",
    "- Phân tích phân bố điểm đánh giá và cảm xúc\n",
    "- Tính toán độ dài review\n",
    "- Phân tích theo thời gian (nếu có cột ngày đánh giá)\n"
   ]
  },
  {
   "cell_type": "markdown",
   "id": "139d095c",
   "metadata": {},
   "source": [
    "### Import thư viện"
   ]
  },
  {
   "cell_type": "code",
   "execution_count": 20,
   "id": "cacf1fbb",
   "metadata": {},
   "outputs": [],
   "source": [
    "from pyspark.sql import SparkSession\n",
    "from pyspark.sql import functions as F\n",
    "from pyspark.sql.types import IntegerType\n",
    "from pyspark.ml.feature import Tokenizer, StopWordsRemover\n",
    "\n",
    "import torch\n",
    "from torch.utils.data import Dataset, DataLoader\n",
    "import torch.nn as nn\n",
    "import torch.optim as optim"
   ]
  },
  {
   "cell_type": "markdown",
   "id": "3c32279a",
   "metadata": {},
   "source": [
    "### Tạo Spark Session"
   ]
  },
  {
   "cell_type": "code",
   "execution_count": 21,
   "id": "465086a6",
   "metadata": {},
   "outputs": [],
   "source": [
    "# ==============================================================\n",
    "# 🔹 Tạo SparkSession\n",
    "# ==============================================================\n",
    "\n",
    "spark = SparkSession.builder \\\n",
    "    .appName(\"Amazon_Review_Sentiment\") \\\n",
    "    .getOrCreate()\n",
    "\n",
    "spark.sparkContext.setLogLevel(\"WARN\")"
   ]
  },
  {
   "cell_type": "markdown",
   "id": "cfc0466a",
   "metadata": {},
   "source": [
    "### Đọc dữ liệu gốc"
   ]
  },
  {
   "cell_type": "code",
   "execution_count": 22,
   "id": "05ae5048",
   "metadata": {},
   "outputs": [
    {
     "name": "stdout",
     "output_type": "stream",
     "text": [
      "Đọc dữ liệu thành công.\n",
      "+----------------+-------------------------------+-------+------------+------------------------+----------------------+-----------------------------------------------+-----------------------------------------------------------------------------------------------------------------------------------------------------------------------------------------------------------------------------------------------------------------------------------------------------------------------------------------------------------------------------------------------------------------------------------------------------------------------------------------------------------------------------------------------------------------------------------------------------------------------------------+------------------+\n",
      "|Reviewer Name   |Profile Link                   |Country|Review Count|Review Date             |Rating                |Review Title                                   |Review Text                                                                                                                                                                                                                                                                                                                                                                                                                                                                                                                                                                                                                        |Date of Experience|\n",
      "+----------------+-------------------------------+-------+------------+------------------------+----------------------+-----------------------------------------------+-----------------------------------------------------------------------------------------------------------------------------------------------------------------------------------------------------------------------------------------------------------------------------------------------------------------------------------------------------------------------------------------------------------------------------------------------------------------------------------------------------------------------------------------------------------------------------------------------------------------------------------+------------------+\n",
      "|Eugene ath      |/users/66e8185ff1598352d6b3701a|US     |1 review    |2024-09-16T13:44:26.000Z|Rated 1 out of 5 stars|A Store That Doesn't Want to Sell Anything     |I registered on the website, tried to order a laptop, entered all the details, but instead of charging me and sending the product, they froze my account, demanding various verification documents. I sent them over. They said they would review them within 24 hours. In reality, it's been a week, and no one can help or give any (truthful) estimate of when it will be resolved; they just tell me to 'wait.' I've never seen such a horrible marketplace in my life. I hope those who came up with this can't buy food in a store, receiving a 'document review request' that takes forever to process.                     |September 16, 2024|\n",
      "|Daniel ohalloran|/users/5d75e460200c1f6a6373648c|GB     |9 reviews   |2024-09-16T18:26:46.000Z|Rated 1 out of 5 stars|Had multiple orders one turned up and…         |Had multiple orders one turned up and driver had to phone as no door number on packaging, then waited all day for second package to get a message saying couldn't deliver as no number on packaging, 12 hours waiting in now don't even know when I'm getting delivery. Terrible will never use again                                                                                                                                                                                                                                                                                                                              |September 16, 2024|\n",
      "|p fisher        |/users/546cfcf1000064000197b88f|GB     |90 reviews  |2024-09-16T21:47:39.000Z|Rated 1 out of 5 stars|I informed these reprobates                    |I informed these reprobates that I WOULD NOT BE IN as I was going to visit a sick relative, they told me they were going to send a OTP, I told them I could not receive it as I was travelling a long way on the underground, their reply was don’t worry we can text. I pointed out I can’t receive texts EITHER!!They said parcel was on its way so couldn’t stop it. I pointed out I WOULD NOT WANT IT as, I had PERMANENTLY CLOSED my account!The driver came whilst I was out and failed to even follow my settings info that said to deliver to a specific neighbour if I was out, since then my account has now been deleted|September 16, 2024|\n",
      "|Greg Dunn       |/users/62c35cdbacc0ea0012ccaffa|AU     |5 reviews   |2024-09-17T07:15:49.000Z|Rated 1 out of 5 stars|Advertise one price then increase it on website|I have bought from Amazon before and no problems being very happy with the service and price. Amazon advertise the product at 61.23 us as soon as I logged in and tried to buy two of the items they were 86.75 for each.There is no way of contacting customer service I've spent an hour going round and round in circles. Very disappointing. I would leave a negative star review for the customer service and what I consider to be really poor advertising.                                                                                                                                                                  |September 17, 2024|\n",
      "|Sheila Hannah   |/users/5ddbe429478d88251550610e|GB     |8 reviews   |2024-09-16T18:37:17.000Z|Rated 1 out of 5 stars|If I could give a lower rate I would           |If I could give a lower rate I would! I cancelled my Amazon Prime in February and subsequently found that they had continued to charge me. When I contacted them they refused to give details of who had set up the payment as I didn't have Prime membership at that time. My credit card company cancelled the payment for me and refunded the payments made in June. I have just discovered that Amazon Prime has set up payments again without me being a Prime member!! I have had to cancel my credit card to stop them!!Do not trust Amazon Prime.                                                                          |September 16, 2024|\n",
      "+----------------+-------------------------------+-------+------------+------------------------+----------------------+-----------------------------------------------+-----------------------------------------------------------------------------------------------------------------------------------------------------------------------------------------------------------------------------------------------------------------------------------------------------------------------------------------------------------------------------------------------------------------------------------------------------------------------------------------------------------------------------------------------------------------------------------------------------------------------------------+------------------+\n",
      "only showing top 5 rows\n",
      "\n"
     ]
    }
   ],
   "source": [
    "# ==============================================================\n",
    "# 🔹 Đọc dữ liệu gốc\n",
    "# ==============================================================\n",
    "\n",
    "data_path = \"../data/raw/Amazon_Reviews.csv\"\n",
    "\n",
    "df = spark.read.option(\"header\", True).option(\"inferSchema\", True).csv(data_path)\n",
    "\n",
    "print(\"Đọc dữ liệu thành công.\")\n",
    "df.show(5, truncate=False)\n"
   ]
  },
  {
   "cell_type": "markdown",
   "id": "e28abd24",
   "metadata": {},
   "source": [
    "### Thông tin tổng quan về dữ liệu"
   ]
  },
  {
   "cell_type": "code",
   "execution_count": 23,
   "id": "47d731b6",
   "metadata": {},
   "outputs": [
    {
     "name": "stdout",
     "output_type": "stream",
     "text": [
      "Schema:\n",
      "root\n",
      " |-- Reviewer Name: string (nullable = true)\n",
      " |-- Profile Link: string (nullable = true)\n",
      " |-- Country: string (nullable = true)\n",
      " |-- Review Count: string (nullable = true)\n",
      " |-- Review Date: string (nullable = true)\n",
      " |-- Rating: string (nullable = true)\n",
      " |-- Review Title: string (nullable = true)\n",
      " |-- Review Text: string (nullable = true)\n",
      " |-- Date of Experience: string (nullable = true)\n",
      "\n",
      "Tổng số dòng: 21,656\n",
      "Tổng số cột: 9\n",
      "Danh sách cột: ['Reviewer Name', 'Profile Link', 'Country', 'Review Count', 'Review Date', 'Rating', 'Review Title', 'Review Text', 'Date of Experience']\n"
     ]
    }
   ],
   "source": [
    "# ==============================================================\n",
    "# 🔹 Thông tin tổng quan\n",
    "# ==============================================================\n",
    "\n",
    "print(\"Schema:\")\n",
    "df.printSchema()\n",
    "\n",
    "print(f\"Tổng số dòng: {df.count():,}\")\n",
    "print(f\"Tổng số cột: {len(df.columns)}\")\n",
    "print(\"Danh sách cột:\", df.columns)\n"
   ]
  },
  {
   "cell_type": "markdown",
   "id": "49b6b8bf",
   "metadata": {},
   "source": [
    "### Kiểm tra giá trị thiếu"
   ]
  },
  {
   "cell_type": "code",
   "execution_count": 24,
   "id": "4b51de38",
   "metadata": {},
   "outputs": [
    {
     "name": "stdout",
     "output_type": "stream",
     "text": [
      "Số lượng giá trị null hoặc rỗng trong từng cột:\n",
      "-RECORD 0-----------------\n",
      " Reviewer Name      | 0   \n",
      " Profile Link       | 141 \n",
      " Country            | 436 \n",
      " Review Count       | 523 \n",
      " Review Date        | 565 \n",
      " Rating             | 581 \n",
      " Review Title       | 590 \n",
      " Review Text        | 595 \n",
      " Date of Experience | 920 \n",
      "\n"
     ]
    }
   ],
   "source": [
    "# ==============================================================\n",
    "# 🔹 Kiểm tra giá trị thiếu\n",
    "# ==============================================================\n",
    "\n",
    "null_df = df.select([\n",
    "    F.count(F.when(F.col(c).isNull() | (F.col(c) == ''), c)).alias(c)\n",
    "    for c in df.columns\n",
    "])\n",
    "print(\"Số lượng giá trị null hoặc rỗng trong từng cột:\")\n",
    "null_df.show(vertical=True)"
   ]
  },
  {
   "cell_type": "markdown",
   "id": "6679c024",
   "metadata": {},
   "source": [
    "### Thống kê cột Rating"
   ]
  },
  {
   "cell_type": "code",
   "execution_count": 25,
   "id": "ef3b2df4",
   "metadata": {},
   "outputs": [
    {
     "name": "stdout",
     "output_type": "stream",
     "text": [
      "\n",
      " Thống kê điểm Rating:\n",
      "+------+-----+\n",
      "|Rating|count|\n",
      "+------+-----+\n",
      "|  NULL|  601|\n",
      "|     1|13123|\n",
      "|     2| 1227|\n",
      "|     3|  885|\n",
      "|     4| 1292|\n",
      "|     5| 4528|\n",
      "+------+-----+\n",
      "\n"
     ]
    }
   ],
   "source": [
    "# ==============================================================\n",
    "# 🔹 Thống kê cột Rating\n",
    "# ==============================================================\n",
    "\n",
    "df = df.withColumn(\n",
    "    \"Rating\",\n",
    "    F.regexp_extract(F.col(\"Rating\"), r\"(\\d)(?=\\s*out of 5)\", 1).cast(IntegerType())\n",
    ")\n",
    "\n",
    "# Thống kê điểm đánh giá\n",
    "rating_stats = df.groupBy(\"Rating\").agg(\n",
    "    F.count(\"*\").alias(\"count\")\n",
    ").orderBy(\"Rating\")\n",
    "\n",
    "print(\"\\n Thống kê điểm Rating:\")\n",
    "rating_stats.show()"
   ]
  },
  {
   "cell_type": "markdown",
   "id": "2dec7b66",
   "metadata": {},
   "source": [
    "### Thống kê độ dài review"
   ]
  },
  {
   "cell_type": "code",
   "execution_count": 26,
   "id": "c8e2193a",
   "metadata": {},
   "outputs": [
    {
     "name": "stdout",
     "output_type": "stream",
     "text": [
      "Độ dài trung bình: 422.60\n",
      "Ngắn nhất: 6, Dài nhất: 8166\n"
     ]
    }
   ],
   "source": [
    "# ==============================================================\n",
    "# 🔹 Thống kê độ dài nội dung Review\n",
    "# ==============================================================\n",
    "\n",
    "if \"Review Text\" in df.columns:\n",
    "    df = df.withColumn(\"ReviewLength\", F.length(F.col(\"Review Text\")))\n",
    "\n",
    "    review_stats = df.select(\n",
    "        F.mean(\"ReviewLength\").alias(\"mean_len\"),\n",
    "        F.min(\"ReviewLength\").alias(\"min_len\"),\n",
    "        F.max(\"ReviewLength\").alias(\"max_len\")\n",
    "    ).collect()[0]\n",
    "\n",
    "    print(f\"Độ dài trung bình: {review_stats['mean_len']:.2f}\")\n",
    "    print(f\"Ngắn nhất: {review_stats['min_len']}, Dài nhất: {review_stats['max_len']}\")\n"
   ]
  },
  {
   "cell_type": "markdown",
   "id": "6630f128",
   "metadata": {},
   "source": [
    "### Phân tích theo thời gian"
   ]
  },
  {
   "cell_type": "code",
   "execution_count": 27,
   "id": "c0ca2b48",
   "metadata": {},
   "outputs": [
    {
     "name": "stdout",
     "output_type": "stream",
     "text": [
      "Số lượng review theo năm:\n",
      "+----+-----+\n",
      "|year|count|\n",
      "+----+-----+\n",
      "|NULL|  601|\n",
      "|2007|    1|\n",
      "|2008|    3|\n",
      "|2009|    9|\n",
      "|2010|   22|\n",
      "|2011|  360|\n",
      "|2012| 1166|\n",
      "|2013|   88|\n",
      "|2014|  166|\n",
      "|2015|  175|\n",
      "|2016|  317|\n",
      "|2017|  616|\n",
      "|2018| 1041|\n",
      "|2019| 2314|\n",
      "|2020| 2638|\n",
      "|2021| 2750|\n",
      "|2022| 2551|\n",
      "|2023| 4017|\n",
      "|2024| 2821|\n",
      "+----+-----+\n",
      "\n"
     ]
    }
   ],
   "source": [
    "# ==============================================================\n",
    "# 🔹 Phân tích theo thời gian (nếu có cột Review Date)\n",
    "# ==============================================================\n",
    "\n",
    "if \"Review Date\" in df.columns:\n",
    "    df = df.withColumn(\"Review Date\", F.to_date(F.col(\"Review Date\")))\n",
    "    time_dist = df.groupBy(F.year(\"Review Date\").alias(\"year\")).count().orderBy(\"year\")\n",
    "    print(\"Số lượng review theo năm:\")\n",
    "    time_dist.show()"
   ]
  },
  {
   "cell_type": "markdown",
   "id": "e00c1dcd",
   "metadata": {},
   "source": [
    "## Tiền xử lý dữ liệu (Data Preprocessing)\n",
    "\n",
    "Trong phần này, chúng ta sẽ:\n",
    "- Chuẩn hoá cột **Rating** về giá trị số (1–5)\n",
    "- Gán nhãn **Sentiment** (`positive`, `negative`)\n",
    "- Làm sạch văn bản: xoá ký tự đặc biệt, chữ thường, loại bỏ stopwords\n",
    "- Kết hợp tiêu đề + nội dung review\n",
    "- Lưu dữ liệu đã chuẩn hoá ra file `.parquet` để phục vụ huấn luyện mô hình.\n"
   ]
  },
  {
   "cell_type": "markdown",
   "id": "0d55b1af",
   "metadata": {},
   "source": [
    "### Chuẩn hoá cột Rating"
   ]
  },
  {
   "cell_type": "code",
   "execution_count": 28,
   "id": "ce03d3f8",
   "metadata": {},
   "outputs": [
    {
     "name": "stdout",
     "output_type": "stream",
     "text": [
      "Đã chuẩn hoá cột Rating về khoảng [1–5].\n",
      "+------+\n",
      "|Rating|\n",
      "+------+\n",
      "|     1|\n",
      "|     2|\n",
      "|     3|\n",
      "|     4|\n",
      "|     5|\n",
      "+------+\n",
      "\n"
     ]
    }
   ],
   "source": [
    "# ==============================================================\n",
    "# 🔹 Chuẩn hoá cột Rating\n",
    "# ==============================================================\n",
    "df = df.withColumn(\n",
    "    \"Rating\",\n",
    "    F.regexp_extract(F.col(\"Rating\"), r\"(\\d+)\", 1).cast(IntegerType())\n",
    ")\n",
    "\n",
    "df = df.filter((F.col(\"Rating\") >= 1) & (F.col(\"Rating\") <= 5))\n",
    "print(\"Đã chuẩn hoá cột Rating về khoảng [1–5].\")\n",
    "\n",
    "df.select(\"Rating\").distinct().orderBy(\"Rating\").show()"
   ]
  },
  {
   "cell_type": "markdown",
   "id": "7cb1a35c",
   "metadata": {},
   "source": [
    "### Gán nhãn Sentiment"
   ]
  },
  {
   "cell_type": "code",
   "execution_count": 29,
   "id": "b9cb6cba",
   "metadata": {},
   "outputs": [
    {
     "name": "stdout",
     "output_type": "stream",
     "text": [
      "+---------+-----+\n",
      "|Sentiment|count|\n",
      "+---------+-----+\n",
      "| positive| 6705|\n",
      "| negative|14350|\n",
      "+---------+-----+\n",
      "\n"
     ]
    }
   ],
   "source": [
    "# ==============================================================\n",
    "# 🔹 Gán nhãn cảm xúc dựa trên Rating\n",
    "# ==============================================================\n",
    "\n",
    "df = df.withColumn(\n",
    "    \"Sentiment\",\n",
    "    F.when(F.col(\"Rating\") <= 2, \"negative\")\n",
    "     .otherwise(\"positive\")\n",
    ")\n",
    "\n",
    "df.groupBy(\"Sentiment\").count().show()\n"
   ]
  },
  {
   "cell_type": "markdown",
   "id": "d81369b8",
   "metadata": {},
   "source": [
    "### Làm sạch văn bản"
   ]
  },
  {
   "cell_type": "code",
   "execution_count": 30,
   "id": "4d075b47",
   "metadata": {},
   "outputs": [
    {
     "name": "stdout",
     "output_type": "stream",
     "text": [
      "Đã làm sạch văn bản.\n",
      "+-------------------------------------------------------------------------------------------------------------------------------------------------------------------------------------------------------------------------------------------------------------------------------------------------------------------------------------------------------------------------------------------------------------------------------------------------------------------------------------------------------------------------------------------------------------------------------------------------------------------------------------------------------+\n",
      "|FullReview                                                                                                                                                                                                                                                                                                                                                                                                                                                                                                                                                                                                                                             |\n",
      "+-------------------------------------------------------------------------------------------------------------------------------------------------------------------------------------------------------------------------------------------------------------------------------------------------------------------------------------------------------------------------------------------------------------------------------------------------------------------------------------------------------------------------------------------------------------------------------------------------------------------------------------------------------+\n",
      "|a store that doesn t want to sell anything i registered on the website tried to order a laptop entered all the details but instead of charging me and sending the product they froze my account demanding various verification documents i sent them over they said they would review them within 24 hours in reality it s been a week and no one can help or give any truthful estimate of when it will be resolved they just tell me to wait i ve never seen such a horrible marketplace in my life i hope those who came up with this can t buy food in a store receiving a document review request that takes forever to process                   |\n",
      "|had multiple orders one turned up and had multiple orders one turned up and driver had to phone as no door number on packaging then waited all day for second package to get a message saying couldn t deliver as no number on packaging 12 hours waiting in now don t even know when i m getting delivery terrible will never use again                                                                                                                                                                                                                                                                                                               |\n",
      "|i informed these reprobates i informed these reprobates that i would not be in as i was going to visit a sick relative they told me they were going to send a otp i told them i could not receive it as i was travelling a long way on the underground their reply was don t worry we can text i pointed out i can t receive texts either they said parcel was on its way so couldn t stop it i pointed out i would not want it as i had permanently closed my account the driver came whilst i was out and failed to even follow my settings info that said to deliver to a specific neighbour if i was out since then my account has now been deleted|\n",
      "|advertise one price then increase it on website i have bought from amazon before and no problems being very happy with the service and price amazon advertise the product at 61 23 us as soon as i logged in and tried to buy two of the items they were 86 75 for each there is no way of contacting customer service i ve spent an hour going round and round in circles very disappointing i would leave a negative star review for the customer service and what i consider to be really poor advertising                                                                                                                                          |\n",
      "|if i could give a lower rate i would if i could give a lower rate i would i cancelled my amazon prime in february and subsequently found that they had continued to charge me when i contacted them they refused to give details of who had set up the payment as i didn t have prime membership at that time my credit card company cancelled the payment for me and refunded the payments made in june i have just discovered that amazon prime has set up payments again without me being a prime member i have had to cancel my credit card to stop them do not trust amazon prime                                                                 |\n",
      "+-------------------------------------------------------------------------------------------------------------------------------------------------------------------------------------------------------------------------------------------------------------------------------------------------------------------------------------------------------------------------------------------------------------------------------------------------------------------------------------------------------------------------------------------------------------------------------------------------------------------------------------------------------+\n",
      "only showing top 5 rows\n",
      "\n"
     ]
    }
   ],
   "source": [
    "# ==============================================================\n",
    "# 🔹 Làm sạch nội dung Review\n",
    "# ==============================================================\n",
    "\n",
    "if \"Review Title\" in df.columns and \"Review Text\" in df.columns:\n",
    "    df = df.withColumn(\"FullReview\", F.concat_ws(\". \", \"Review Title\", \"Review Text\"))\n",
    "elif \"Review Text\" in df.columns:\n",
    "    df = df.withColumnRenamed(\"Review Text\", \"FullReview\")\n",
    "\n",
    "df = (\n",
    "    df.withColumn(\"FullReview\", F.lower(\"FullReview\"))\n",
    "      .withColumn(\"FullReview\", F.regexp_replace(\"FullReview\", r\"[^a-zA-Z0-9\\s]\", \" \"))\n",
    "      .withColumn(\"FullReview\", F.regexp_replace(\"FullReview\", r\"\\s+\", \" \"))\n",
    "      .filter(F.length(\"FullReview\") > 10)\n",
    ")\n",
    "\n",
    "print(\"Đã làm sạch văn bản.\")\n",
    "df.select(\"FullReview\").show(5, truncate=False)\n"
   ]
  },
  {
   "cell_type": "markdown",
   "id": "96db4dcb",
   "metadata": {},
   "source": [
    "### Loại bỏ Stopwords"
   ]
  },
  {
   "cell_type": "code",
   "execution_count": 31,
   "id": "cc585c9b",
   "metadata": {},
   "outputs": [
    {
     "name": "stdout",
     "output_type": "stream",
     "text": [
      "+------------------------------------------------------------------------------------------------------------------------------------------------------------------------------------------------------------------------------------------------------------------------------------------------------------------------------------------------------------------------------------------------------+\n",
      "|CleanText                                                                                                                                                                                                                                                                                                                                                                                             |\n",
      "+------------------------------------------------------------------------------------------------------------------------------------------------------------------------------------------------------------------------------------------------------------------------------------------------------------------------------------------------------------------------------------------------------+\n",
      "|store doesn want sell anything registered website tried order laptop entered details instead charging sending product froze account demanding various verification documents sent said review within 24 hours reality week one help give truthful estimate resolved tell wait ve never seen horrible marketplace life hope came buy food store receiving document review request takes forever process|\n",
      "|multiple orders one turned multiple orders one turned driver phone door number packaging waited day second package get message saying couldn deliver number packaging 12 hours waiting even know m getting delivery terrible never use                                                                                                                                                                |\n",
      "|informed reprobates informed reprobates going visit sick relative told going send otp told receive travelling long way underground reply worry text pointed receive texts either said parcel way couldn stop pointed want permanently closed account driver came whilst failed even follow settings info said deliver specific neighbour since account deleted                                        |\n",
      "|advertise one price increase website bought amazon problems happy service price amazon advertise product 61 23 us soon logged tried buy two items 86 75 way contacting customer service ve spent hour going round round circles disappointing leave negative star review customer service consider really poor advertising                                                                            |\n",
      "|give lower rate give lower rate cancelled amazon prime february subsequently found continued charge contacted refused give details set payment didn prime membership time credit card company cancelled payment refunded payments made june discovered amazon prime set payments without prime member cancel credit card stop trust amazon prime                                                      |\n",
      "+------------------------------------------------------------------------------------------------------------------------------------------------------------------------------------------------------------------------------------------------------------------------------------------------------------------------------------------------------------------------------------------------------+\n",
      "only showing top 5 rows\n",
      "\n",
      "Đã loại bỏ stopwords.\n"
     ]
    }
   ],
   "source": [
    "# ==============================================================\n",
    "# 🔹 Tokenization & Stopword Removal\n",
    "# ==============================================================\n",
    "\n",
    "tokenizer = Tokenizer(inputCol=\"FullReview\", outputCol=\"Words\")\n",
    "remover = StopWordsRemover(inputCol=\"Words\", outputCol=\"FilteredWords\")\n",
    "\n",
    "df = tokenizer.transform(df)\n",
    "df = remover.transform(df)\n",
    "df = df.withColumn(\"CleanText\", F.concat_ws(\" \", \"FilteredWords\"))\n",
    "df = df.filter(F.length(\"CleanText\") > 10)\n",
    "\n",
    "df.select(\"CleanText\").show(5, truncate=False)\n",
    "print(\"Đã loại bỏ stopwords.\")\n"
   ]
  },
  {
   "cell_type": "markdown",
   "id": "fe450112",
   "metadata": {},
   "source": [
    "### Loại bỏ dữ liệu trùng lặp"
   ]
  },
  {
   "cell_type": "code",
   "execution_count": 32,
   "id": "693fde07",
   "metadata": {},
   "outputs": [
    {
     "name": "stderr",
     "output_type": "stream",
     "text": [
      "                                                                                \r"
     ]
    },
    {
     "name": "stdout",
     "output_type": "stream",
     "text": [
      "Đã loại bỏ 81 dòng trùng lặp.\n",
      "Còn lại 20967 dòng dữ liệu sau khi làm sạch & unique.\n"
     ]
    },
    {
     "name": "stderr",
     "output_type": "stream",
     "text": [
      "[Stage 97:==============>                                           (1 + 3) / 4]\r"
     ]
    },
    {
     "name": "stdout",
     "output_type": "stream",
     "text": [
      "+-----------------------------------------------------------------------------------------------------------------------------------------------------------------------------------------------------------------------------------------------------------------------------------------------------------------------------------------------------------------------+\n",
      "|CleanText                                                                                                                                                                                                                                                                                                                                                              |\n",
      "+-----------------------------------------------------------------------------------------------------------------------------------------------------------------------------------------------------------------------------------------------------------------------------------------------------------------------------------------------------------------------+\n",
      "|amazon equals dumpster fire amazon turned dumpster fire amount times get delivery attempt made really wasn mention straight stealing packages marked delivered happens often parodies made social platforms amazon employees stealing forget getting customer service support end treating like criminal daughter already discussed ordering expensive items via amazon|\n",
      "|love amazon never issue amazon even times something wrong amazing always help things still cheaper stores love shopping amazon first place go looking something want need also many services use quite lot amazon music amazing                                                                                                                                        |\n",
      "|many products great prices many products great prices decent speed delivery purchase                                                                                                                                                                                                                                                                                   |\n",
      "|disappointed angry disappointed amazon customer service called days trying return item end letting return date become expired communication awful definitely language barrier calling calling finally hung given false impression false impression pissed item ring camera system manufacturer making like fat rat money timeframe sent back mailed                    |\n",
      "|amazon rip amazon refuses replace 5th gen echo stopped working 11 months                                                                                                                                                                                                                                                                                               |\n",
      "+-----------------------------------------------------------------------------------------------------------------------------------------------------------------------------------------------------------------------------------------------------------------------------------------------------------------------------------------------------------------------+\n",
      "only showing top 5 rows\n",
      "\n"
     ]
    },
    {
     "name": "stderr",
     "output_type": "stream",
     "text": [
      "                                                                                \r"
     ]
    }
   ],
   "source": [
    "# ==============================================================\n",
    "# Loại bỏ dữ liệu trùng lặp\n",
    "# ==============================================================\n",
    "\n",
    "before_count = df.count()\n",
    "df = df.dropDuplicates([\"CleanText\"])\n",
    "after_count = df.count()\n",
    "\n",
    "print(f\"Đã loại bỏ {before_count - after_count} dòng trùng lặp.\")\n",
    "print(f\"Còn lại {after_count} dòng dữ liệu sau khi làm sạch & unique.\")\n",
    "df.select(\"CleanText\").show(5, truncate=False)"
   ]
  },
  {
   "cell_type": "markdown",
   "id": "91ab1ebf",
   "metadata": {},
   "source": [
    "### Giữ cột quan trọng và lưu dữ liệu"
   ]
  },
  {
   "cell_type": "code",
   "execution_count": 33,
   "id": "6046094d",
   "metadata": {},
   "outputs": [
    {
     "name": "stdout",
     "output_type": "stream",
     "text": [
      "Dữ liệu đã được xử lý và tinh gọn:\n"
     ]
    },
    {
     "name": "stderr",
     "output_type": "stream",
     "text": [
      "                                                                                \r"
     ]
    },
    {
     "name": "stdout",
     "output_type": "stream",
     "text": [
      "+-------------+-------+-----------+------+---------------------------------------------------------------------------------------------------------------------------------------------------------------------------------------------------------------------------------------------------------------------------------------------------------------------------------------------------------------------------------------------------------------------------------------------------------------------------------------------------------------------------------------------------------------------------------------------------------------------------------------------------------------------------------------------+---------+\n",
      "|Reviewer Name|Country|Review Date|Rating|CleanText                                                                                                                                                                                                                                                                                                                                                                                                                                                                                                                                                                                                                                                                                    |Sentiment|\n",
      "+-------------+-------+-----------+------+---------------------------------------------------------------------------------------------------------------------------------------------------------------------------------------------------------------------------------------------------------------------------------------------------------------------------------------------------------------------------------------------------------------------------------------------------------------------------------------------------------------------------------------------------------------------------------------------------------------------------------------------------------------------------------------------+---------+\n",
      "|Lee Phillips |GB     |2023-10-17 |1     | 1 357 spent prime day 2 items 1 357 spent prime day 2 items one said delivered waiting day raising query soon received delivery confirmation without actual delivery delayed finally cancelled 7 days later receive refund notification choice replace items lost buy non prime day price 1 920 spent week trying get replacements told wait investigation completed won get know outcome hold money week refund absolute joke customer service experience                                                                                                                                                                                                                                  |negative |\n",
      "|Sammy        |GB     |2018-02-15 |5     | 1 comment review text found                                                                                                                                                                                                                                                                                                                                                                                                                                                                                                                                                                                                                                                                 |positive |\n",
      "|october skye |US     |2021-09-01 |1     | 2 lost prime orders august twice one month august 2021 amazon lost orders one intended birthday gift friend 2 day delivery vanished                                                                                                                                                                                                                                                                                                                                                                                                                                                                                                                                                         |negative |\n",
      "|Miss         |GB     |2023-04-04 |1     | 25 star using ebay amazonfraud 25 star using ebay created amazon account long time ago got new number 2021 realised wont able access account need mobile number verification called amazon customer service told nothing create new account using email old account deleted logging new account problem 25 gift voucher new account logged new account password already saved laptop surprise logged back old account cant log new account 25 gift voucher called customer service got programmed answer create new account nothing new account 25 poofed thin air amazon customer service incompetency never ever buy anything incompetent waste time website absolute npc customer service|negative |\n",
      "|Jane Culley  |GB     |2022-04-19 |1     | 7 99 per mth watch ads thx pay 7 99 per month watch adverts film etc anymore consider subscription cancelled use ebay stuff free shipping                                                                                                                                                                                                                                                                                                                                                                                                                                                                                                                                                   |negative |\n",
      "+-------------+-------+-----------+------+---------------------------------------------------------------------------------------------------------------------------------------------------------------------------------------------------------------------------------------------------------------------------------------------------------------------------------------------------------------------------------------------------------------------------------------------------------------------------------------------------------------------------------------------------------------------------------------------------------------------------------------------------------------------------------------------+---------+\n",
      "only showing top 5 rows\n",
      "\n"
     ]
    },
    {
     "name": "stderr",
     "output_type": "stream",
     "text": [
      "[Stage 103:==============>                                          (1 + 3) / 4]\r"
     ]
    },
    {
     "name": "stdout",
     "output_type": "stream",
     "text": [
      "Đã lưu dữ liệu tiền xử lý tại: ../data/processed\n"
     ]
    },
    {
     "name": "stderr",
     "output_type": "stream",
     "text": [
      "                                                                                \r"
     ]
    }
   ],
   "source": [
    "# ==============================================================\n",
    "# 🔹 Giữ cột cần thiết và lưu dữ liệu\n",
    "# ==============================================================\n",
    "\n",
    "keep_cols = [\"Reviewer Name\", \"Country\", \"Review Date\", \"Rating\", \"CleanText\", \"Sentiment\"]\n",
    "df = df.select([c for c in keep_cols if c in df.columns])\n",
    "\n",
    "print(\"Dữ liệu đã được xử lý và tinh gọn:\")\n",
    "df.show(5, truncate=False)\n",
    "\n",
    "output_path = \"../data/processed\"\n",
    "df.write.mode(\"overwrite\").parquet(output_path)\n",
    "print(f\"Đã lưu dữ liệu tiền xử lý tại: {output_path}\")\n"
   ]
  },
  {
   "cell_type": "markdown",
   "id": "1c8b1b4a",
   "metadata": {},
   "source": [
    "### Data Validation sau khi preprocessing"
   ]
  },
  {
   "cell_type": "code",
   "execution_count": 34,
   "id": "61e3b412",
   "metadata": {},
   "outputs": [
    {
     "name": "stdout",
     "output_type": "stream",
     "text": [
      "Kiểm tra null:\n"
     ]
    },
    {
     "name": "stderr",
     "output_type": "stream",
     "text": [
      "                                                                                \r"
     ]
    },
    {
     "name": "stdout",
     "output_type": "stream",
     "text": [
      "-RECORD 0------------\n",
      " Reviewer Name | 0   \n",
      " Country       | 0   \n",
      " Review Date   | 0   \n",
      " Rating        | 0   \n",
      " CleanText     | 0   \n",
      " Sentiment     | 0   \n",
      "\n"
     ]
    },
    {
     "name": "stderr",
     "output_type": "stream",
     "text": [
      "                                                                                \r"
     ]
    },
    {
     "name": "stdout",
     "output_type": "stream",
     "text": [
      "Số dòng trùng lặp: 0\n"
     ]
    },
    {
     "name": "stderr",
     "output_type": "stream",
     "text": [
      "[Stage 118:==============>                                          (1 + 3) / 4]\r"
     ]
    },
    {
     "name": "stdout",
     "output_type": "stream",
     "text": [
      "+------+-----+\n",
      "|Rating|count|\n",
      "+------+-----+\n",
      "|     1|13105|\n",
      "|     2| 1225|\n",
      "|     3|  879|\n",
      "|     4| 1274|\n",
      "|     5| 4484|\n",
      "+------+-----+\n",
      "\n",
      "Validation hoàn tất – dữ liệu đã sẵn sàng cho feature engineering.\n"
     ]
    },
    {
     "name": "stderr",
     "output_type": "stream",
     "text": [
      "                                                                                \r"
     ]
    }
   ],
   "source": [
    "# ==============================================================\n",
    "# 🔹 Data Validation sau khi preprocessing\n",
    "# ==============================================================\n",
    "\n",
    "from pyspark.sql import functions as F\n",
    "\n",
    "# Kiểm tra null\n",
    "print(\"Kiểm tra null:\")\n",
    "df.select([F.count(F.when(F.col(c).isNull(), c)).alias(c) for c in df.columns]).show(vertical=True)\n",
    "\n",
    "# Kiểm tra trùng lặp\n",
    "dup_count = df.groupBy(\"CleanText\").count().filter(F.col(\"count\") > 1).count()\n",
    "print(f\"Số dòng trùng lặp: {dup_count}\")\n",
    "\n",
    "# Kiểm tra phân bố rating\n",
    "df.groupBy(\"Rating\").count().orderBy(\"Rating\").show()\n",
    "\n",
    "print(\"Validation hoàn tất – dữ liệu đã sẵn sàng cho feature engineering.\")\n"
   ]
  },
  {
   "cell_type": "markdown",
   "id": "c850a378",
   "metadata": {},
   "source": [
    "## Xây dựng mô hình Machine Learning"
   ]
  },
  {
   "cell_type": "markdown",
   "id": "c0265ce0",
   "metadata": {},
   "source": [
    "### Import thư viện"
   ]
  },
  {
   "cell_type": "code",
   "execution_count": null,
   "id": "51c8e626",
   "metadata": {},
   "outputs": [],
   "source": [
    "import pandas as pd\n",
    "import numpy as np\n",
    "from pyspark.sql import functions as F\n",
    "from sklearn.model_selection import train_test_split, GridSearchCV\n",
    "from sklearn.feature_extraction.text import TfidfVectorizer\n",
    "from sklearn.linear_model import LogisticRegression\n",
    "from sklearn.svm import LinearSVC\n",
    "from sklearn.ensemble import RandomForestClassifier\n",
    "from sklearn.metrics import classification_report, accuracy_score\n",
    "import joblib"
   ]
  },
  {
   "cell_type": "markdown",
   "id": "8a3cafc6",
   "metadata": {},
   "source": [
    "### Đọc dữ liệu và trích xuất đặc trưng"
   ]
  },
  {
   "cell_type": "code",
   "execution_count": 36,
   "id": "5106b83d",
   "metadata": {},
   "outputs": [
    {
     "name": "stdout",
     "output_type": "stream",
     "text": [
      "Dữ liệu sẵn sàng để train: (20967, 2)\n"
     ]
    },
    {
     "data": {
      "text/html": [
       "<div>\n",
       "<style scoped>\n",
       "    .dataframe tbody tr th:only-of-type {\n",
       "        vertical-align: middle;\n",
       "    }\n",
       "\n",
       "    .dataframe tbody tr th {\n",
       "        vertical-align: top;\n",
       "    }\n",
       "\n",
       "    .dataframe thead th {\n",
       "        text-align: right;\n",
       "    }\n",
       "</style>\n",
       "<table border=\"1\" class=\"dataframe\">\n",
       "  <thead>\n",
       "    <tr style=\"text-align: right;\">\n",
       "      <th></th>\n",
       "      <th>CleanText</th>\n",
       "      <th>Sentiment</th>\n",
       "    </tr>\n",
       "  </thead>\n",
       "  <tbody>\n",
       "    <tr>\n",
       "      <th>0</th>\n",
       "      <td>0 win complaint 0 win complaint amazon right ...</td>\n",
       "      <td>negative</td>\n",
       "    </tr>\n",
       "    <tr>\n",
       "      <th>1</th>\n",
       "      <td>100 shipping didn tell 100 shipping didn tell...</td>\n",
       "      <td>negative</td>\n",
       "    </tr>\n",
       "    <tr>\n",
       "      <th>2</th>\n",
       "      <td>10000000000 stars bad company 10000000000 sta...</td>\n",
       "      <td>negative</td>\n",
       "    </tr>\n",
       "    <tr>\n",
       "      <th>3</th>\n",
       "      <td>514 billion revenues least come good customer...</td>\n",
       "      <td>negative</td>\n",
       "    </tr>\n",
       "    <tr>\n",
       "      <th>4</th>\n",
       "      <td>600 order missing ve lot amazon orders incorr...</td>\n",
       "      <td>negative</td>\n",
       "    </tr>\n",
       "  </tbody>\n",
       "</table>\n",
       "</div>"
      ],
      "text/plain": [
       "                                           CleanText Sentiment\n",
       "0   0 win complaint 0 win complaint amazon right ...  negative\n",
       "1   100 shipping didn tell 100 shipping didn tell...  negative\n",
       "2   10000000000 stars bad company 10000000000 sta...  negative\n",
       "3   514 billion revenues least come good customer...  negative\n",
       "4   600 order missing ve lot amazon orders incorr...  negative"
      ]
     },
     "execution_count": 36,
     "metadata": {},
     "output_type": "execute_result"
    }
   ],
   "source": [
    "df = spark.read.parquet(\"../data/processed/\")\n",
    "\n",
    "# Chuyển sang pandas để train model sklearn\n",
    "pandas_df = df.select(\"CleanText\", \"Sentiment\").toPandas()\n",
    "pandas_df = pandas_df.dropna()\n",
    "\n",
    "print(\"Dữ liệu sẵn sàng để train:\", pandas_df.shape)\n",
    "pandas_df.head()"
   ]
  },
  {
   "cell_type": "markdown",
   "id": "d354cd93",
   "metadata": {},
   "source": [
    "### Chuẩn bị dữ liệu cho mô hình"
   ]
  },
  {
   "cell_type": "code",
   "execution_count": 38,
   "id": "c73df34f",
   "metadata": {},
   "outputs": [
    {
     "name": "stdout",
     "output_type": "stream",
     "text": [
      "TF-IDF shape: (16773, 5000)\n"
     ]
    }
   ],
   "source": [
    "X = pandas_df[\"CleanText\"]\n",
    "y = pandas_df[\"Sentiment\"]\n",
    "\n",
    "X_train, X_test, y_train, y_test = train_test_split(\n",
    "    X, y, test_size=0.2, random_state=42, stratify=y\n",
    ")\n",
    "\n",
    "# TF-IDF vectorization\n",
    "tfidf = TfidfVectorizer(max_features=5000, ngram_range=(1,2))\n",
    "X_train_tfidf = tfidf.fit_transform(X_train)\n",
    "X_test_tfidf = tfidf.transform(X_test)\n",
    "\n",
    "print(\"TF-IDF shape:\", X_train_tfidf.shape)"
   ]
  },
  {
   "cell_type": "markdown",
   "id": "ef5143fd",
   "metadata": {},
   "source": [
    "### Định nghĩa 3 mô hình và tham số để Cross Validation"
   ]
  },
  {
   "cell_type": "code",
   "execution_count": 39,
   "id": "3a149bf0",
   "metadata": {},
   "outputs": [],
   "source": [
    "models = {\n",
    "    \"logistic_regression\": {\n",
    "        \"model\": LogisticRegression(max_iter=200),\n",
    "        \"params\": {\"C\": [0.1, 1, 5]}\n",
    "    },\n",
    "    \"svm\": {\n",
    "        \"model\": LinearSVC(),\n",
    "        \"params\": {\"C\": [0.1, 1, 5]}\n",
    "    },\n",
    "    \"random_forest\": {\n",
    "        \"model\": RandomForestClassifier(),\n",
    "        \"params\": {\"n_estimators\": [100, 200], \"max_depth\": [10, 20]}\n",
    "    }\n",
    "}"
   ]
  },
  {
   "cell_type": "markdown",
   "id": "bf1663e2",
   "metadata": {},
   "source": [
    "### Train và Cross Validation cho từng mô hình"
   ]
  },
  {
   "cell_type": "code",
   "execution_count": 40,
   "id": "02717ff0",
   "metadata": {},
   "outputs": [
    {
     "name": "stdout",
     "output_type": "stream",
     "text": [
      "\n",
      " Training logistic_regression ...\n",
      "Fitting 5 folds for each of 3 candidates, totalling 15 fits\n",
      " logistic_regression accuracy: 0.9266\n",
      "              precision    recall  f1-score   support\n",
      "\n",
      "    negative       0.93      0.97      0.95      2866\n",
      "    positive       0.93      0.83      0.88      1328\n",
      "\n",
      "    accuracy                           0.93      4194\n",
      "   macro avg       0.93      0.90      0.91      4194\n",
      "weighted avg       0.93      0.93      0.93      4194\n",
      "\n",
      "\n",
      " Training svm ...\n",
      "Fitting 5 folds for each of 3 candidates, totalling 15 fits\n",
      " svm accuracy: 0.9220\n",
      "              precision    recall  f1-score   support\n",
      "\n",
      "    negative       0.91      0.98      0.94      2866\n",
      "    positive       0.95      0.80      0.87      1328\n",
      "\n",
      "    accuracy                           0.92      4194\n",
      "   macro avg       0.93      0.89      0.91      4194\n",
      "weighted avg       0.92      0.92      0.92      4194\n",
      "\n",
      "\n",
      " Training random_forest ...\n",
      "Fitting 5 folds for each of 4 candidates, totalling 20 fits\n",
      " random_forest accuracy: 0.8624\n",
      "              precision    recall  f1-score   support\n",
      "\n",
      "    negative       0.84      0.98      0.91      2866\n",
      "    positive       0.95      0.60      0.73      1328\n",
      "\n",
      "    accuracy                           0.86      4194\n",
      "   macro avg       0.89      0.79      0.82      4194\n",
      "weighted avg       0.88      0.86      0.85      4194\n",
      "\n"
     ]
    }
   ],
   "source": [
    "best_models = {}\n",
    "\n",
    "for name, cfg in models.items():\n",
    "    print(f\"\\n Training {name} ...\")\n",
    "    \n",
    "    grid = GridSearchCV(\n",
    "        estimator=cfg[\"model\"],\n",
    "        param_grid=cfg[\"params\"],\n",
    "        cv=5,\n",
    "        scoring=\"accuracy\",\n",
    "        n_jobs=-1,\n",
    "        verbose=1\n",
    "    )\n",
    "    \n",
    "    grid.fit(X_train_tfidf, y_train)\n",
    "    \n",
    "    best_model = grid.best_estimator_\n",
    "    y_pred = best_model.predict(X_test_tfidf)\n",
    "    acc = accuracy_score(y_test, y_pred)\n",
    "    \n",
    "    print(f\" {name} accuracy: {acc:.4f}\")\n",
    "    print(classification_report(y_test, y_pred))\n",
    "    \n",
    "    # Lưu model tốt nhất\n",
    "    joblib.dump(best_model, f\"../models/{name}_model.pkl\")\n",
    "    best_models[name] = (best_model, acc)"
   ]
  },
  {
   "cell_type": "code",
   "execution_count": 41,
   "id": "2737480e",
   "metadata": {},
   "outputs": [
    {
     "name": "stdout",
     "output_type": "stream",
     "text": [
      "\n",
      "Mô hình tốt nhất: logistic_regression (Accuracy = 0.9266)\n"
     ]
    }
   ],
   "source": [
    "best_name = max(best_models, key=lambda x: best_models[x][1])\n",
    "print(f\"\\nMô hình tốt nhất: {best_name} (Accuracy = {best_models[best_name][1]:.4f})\")"
   ]
  }
 ],
 "metadata": {
  "kernelspec": {
   "display_name": "spark_env",
   "language": "python",
   "name": "python3"
  },
  "language_info": {
   "codemirror_mode": {
    "name": "ipython",
    "version": 3
   },
   "file_extension": ".py",
   "mimetype": "text/x-python",
   "name": "python",
   "nbconvert_exporter": "python",
   "pygments_lexer": "ipython3",
   "version": "3.10.18"
  }
 },
 "nbformat": 4,
 "nbformat_minor": 5
}
